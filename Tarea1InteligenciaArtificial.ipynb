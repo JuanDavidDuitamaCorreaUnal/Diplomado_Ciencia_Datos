{
  "cells": [
    {
      "cell_type": "markdown",
      "metadata": {
        "id": "view-in-github",
        "colab_type": "text"
      },
      "source": [
        "<a href=\"https://colab.research.google.com/github/JuanDavidDuitamaCorreaUnal/Diplomado_Ciencia_Datos/blob/main/Tarea1InteligenciaArtificial.ipynb\" target=\"_parent\"><img src=\"https://colab.research.google.com/assets/colab-badge.svg\" alt=\"Open In Colab\"/></a>"
      ]
    },
    {
      "cell_type": "markdown",
      "id": "8c60ebff",
      "metadata": {
        "id": "8c60ebff"
      },
      "source": [
        "<center><strong><h1 style=\"color:red;\"> Distribución Logística </h1></strong></center>\n",
        "<center><strong><h3 style=\"color:black;\"> Universidad Nacional de Colombia </h3></strong></center>\n",
        "<center><strong><h3 style=\"color:black;\"> Sede Bogotá </h3></strong></center>\n",
        "<center><strong><h3 style=\"color:black;\"> Facultad de Ciencias </h3></strong></center>\n",
        "<center><strong><h3 style=\"color:black;\"> Departamento de Estadística </h3></strong></center>\n",
        "<center><strong><h3 style=\"color:black;\"> Inteligencia Artificial </h3></strong></center>"
      ]
    },
    {
      "cell_type": "markdown",
      "id": "0d7234ab",
      "metadata": {
        "id": "0d7234ab"
      },
      "source": [
        "<img src=\"https://img.freepik.com/foto-gratis/concepto-analisis-estrategia-plan-analisis_53876-124214.jpg?w=740&t=st=1676244283~exp=1676244883~hmac=2428ed9eb8e0ace9ece50f651a83a8ecc95405db9b4d56e622092edb2a0a74fd\" width=\"400\" height=\"300\">"
      ]
    },
    {
      "cell_type": "markdown",
      "id": "984b0358",
      "metadata": {
        "id": "984b0358"
      },
      "source": [
        "<strong><h2 style=\"color:blue;\"> Juan David Duitama Correa (jduitama@unal.edu.co) </h2></strong>\n",
        "* <p align=\"justify\">Estudiante de Estadística con séptima matrícula en curso, decidí estudiar estadística ya que tuve afinidad con la matemática desde pequeño, sobre todo con su aplicación en la vida real, disfruto el fútbol como Hobbie, tanto ver el profesional como practicar el amateur, seguidor del FC Barcelona y Lionel Messi desde 2011.</p>\n",
        "\n",
        "<img src=\"https://scontent.fbog2-5.fna.fbcdn.net/v/t39.30808-6/274547458_2582127311947788_9045868241292907758_n.jpg?_nc_cat=105&ccb=1-7&_nc_sid=09cbfe&_nc_eui2=AeHwD7tgpQQ-X3FFjrvSftQQ-75ry_K_rUn7vmvL8r-tSQlaDAPs_30z_lqZL0ckC3lMU9KOuX3isCxPx_MTJ3Em&_nc_ohc=miPbqV1RWTIAX9-J6pL&_nc_ht=scontent.fbog2-5.fna&oh=00_AfBiSQYHnHyc4D9y2gu59cDIHNCFeVYPW8LUux0AI6EJWw&oe=63EDFD3C\" width=\"400\" height=\"300\">"
      ]
    },
    {
      "cell_type": "markdown",
      "id": "19daebcb",
      "metadata": {
        "id": "19daebcb"
      },
      "source": [
        "<h1><a style=\"color:red;\" \n",
        "href=\"https://es.wikipedia.org/wiki/Distribuci%C3%B3n_log%C3%ADstica#:~:text=En%20la%20teor%C3%ADa%20de%20la,determinados%20tipos%20de%20redes%20neuronales.; target=\"_blank\"><strong>Distribución Logística</strong></a></h1>\n",
        "\n",
        "<p align=\"justify\">La distribución logística es una distribución de probabilidad atribuida a una variable aleatoria contínua con dominio en todos los números reales. Esta distribución queda completamente determinada por dos parámetros, de localización y de escala. Estos dos parámetros son números reales, sin embargo, el parámetro de escala debe ser positivo.</p>\n",
        "\n",
        "* <strong><h3 style=\"color:red;\"> Función de densidad </h3></strong>\n",
        "$$ f_X(x) = \\frac{e^{\\frac{-(x-\\mu)}{s}}}{s(1+e^{\\frac{-(x-\\mu)}{s}})^2}$$\n",
        "\n",
        "* <strong><h3 style=\"color:red;\"> Función de distribución </h3></strong>\n",
        "$$ F_X(x) = \\frac{1}{1+e^{\\frac{-(x-\\mu)}{s}}}$$\n",
        "\n",
        "* <strong><h3 style=\"color:red;\"> Función cuantil </h3></strong>\n",
        "$$ F^{-1}_X(p) = \\mu + s*ln\\left(\\frac{p}{1-p}\\right) ; 0<p<1$$\n",
        "    \n",
        "* <strong><h3 style=\"color:red;\"> Ejemplo de uso </h3></strong>\n",
        "<p align=\"justify\"> Supóngase que se tiene una variable aleatoria X con distribución logística cuyos parámetros de localización y escala son 1 y 4 respectivamente, la probabilidad de que ésta esté entre 0 y 2 es:</p>\n",
        "$$ P[0<X<2] = \n",
        "\\int_{0}^{2}  \\! \\frac{e^{\\frac{-(x-1)}{4}}}{4(1+e^{\\frac{-(x-1)}{4}})^2} \\, dx \\approx 0.1243530017715962\n",
        "$$    \n",
        "<p align=\"justify\"> Ahora se calculará el percentil de la distribución el cual deja una probabilidad acumulada de 0.5, este percentil es la mediana, y coincide con el parámetro de localización.</p>    \n",
        "$$ F^{-1}_X(0.5) = 1 + 4*ln\\left(\\frac{0.5}{1-0.5}\\right) = 1 + 4*ln(1) =1 $$    "
      ]
    }
  ],
  "metadata": {
    "kernelspec": {
      "display_name": "Python 3 (ipykernel)",
      "language": "python",
      "name": "python3"
    },
    "language_info": {
      "codemirror_mode": {
        "name": "ipython",
        "version": 3
      },
      "file_extension": ".py",
      "mimetype": "text/x-python",
      "name": "python",
      "nbconvert_exporter": "python",
      "pygments_lexer": "ipython3",
      "version": "3.9.13"
    },
    "colab": {
      "provenance": [],
      "include_colab_link": true
    }
  },
  "nbformat": 4,
  "nbformat_minor": 5
}