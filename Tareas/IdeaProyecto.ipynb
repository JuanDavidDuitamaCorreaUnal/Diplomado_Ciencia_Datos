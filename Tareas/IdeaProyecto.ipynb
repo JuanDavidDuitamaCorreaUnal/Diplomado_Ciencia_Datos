{
 "cells": [
  {
   "cell_type": "markdown",
   "id": "baaf7e89",
   "metadata": {},
   "source": [
    "# Furbo\n",
    "Primer idea para proyecto final de Inteligencia Artificial, programa llamado Furbo\n",
    "\n",
    "Juan David Duitama Correa"
   ]
  },
  {
   "cell_type": "markdown",
   "id": "1480bb48",
   "metadata": {},
   "source": [
    "Como mencioné en la presentación propia, me encanta el fútbol, es por eso que deseo hacer una herramienta capaz de responder cualquier inquietud que tenga sobre este deporte, algo como un super buscador que me dé las respuestas que deseo y no deba invertir mucho tiempo buscándolas, sin embargo, la principal razón que motivó este proyecto fue poder realizar un programa que, además de responder estas inquietudes, pueda indicarme diariamente cuales equipos ganarán en sus respectivos partidos del día, teniendo en cuenta toda la información disponible de sus anteriores partidos, características de sus jugadores, y muchas otras fuentes de información. Claramente no será una herramienta que acierte completamente, puesto que cualquier cosa puede pasar en el fútbol, no obstante, que sí pueda ser una herramienta de la cual pueda sacar rentabilidad en el futuro."
   ]
  },
  {
   "cell_type": "markdown",
   "id": "9ecc594c",
   "metadata": {},
   "source": [
    "<img src=\"https://upload.wikimedia.org/wikipedia/en/thumb/f/f2/Premier_League_Logo.svg/1200px-Premier_League_Logo.svg.png\" width=\"400\" height=\"300\">"
   ]
  },
  {
   "cell_type": "markdown",
   "id": "d755d221",
   "metadata": {},
   "source": [
    "# Problemas\n",
    "\n",
    "* Encontrar una fuente de información completa.\n",
    "* Iniciar el proyecto desde 0, las herramientas del curso me permitirá desarrollarlo con éxito.\n",
    "* No sé manejar todavía grandes cantidades de datos, ya que será una herramienta que requiere tales magnitudes de datos debo aprender a extraerlos de varias fuentes y encontrar estas.\n",
    "* Conocer e implementar distintos modelos, ya vi la materia análisis de regresión, por lo que sé como hacer modelos lineales, sin embargo, me gustaría poder implementar otro tipo de modelos, y por supuesto, poder implementarlos con grandes cantidades de datos.\n",
    "\n",
    "# Datos disponibles\n",
    "\n",
    "* En la materia Análisis de regresión trabajamos con modelos lineales utilizando los datos disponibles en la página web \n",
    "https://fbref.com/es/"
   ]
  }
 ],
 "metadata": {
  "kernelspec": {
   "display_name": "Python 3 (ipykernel)",
   "language": "python",
   "name": "python3"
  },
  "language_info": {
   "codemirror_mode": {
    "name": "ipython",
    "version": 3
   },
   "file_extension": ".py",
   "mimetype": "text/x-python",
   "name": "python",
   "nbconvert_exporter": "python",
   "pygments_lexer": "ipython3",
   "version": "3.9.13"
  }
 },
 "nbformat": 4,
 "nbformat_minor": 5
}
