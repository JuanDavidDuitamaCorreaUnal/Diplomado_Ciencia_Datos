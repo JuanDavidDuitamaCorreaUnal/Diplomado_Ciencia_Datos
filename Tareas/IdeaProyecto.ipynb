{
 "cells": [
  {
   "cell_type": "markdown",
   "id": "baaf7e89",
   "metadata": {},
   "source": [
    "# Primer idea para el proyecto final\n",
    "Juan David Duitama Correa"
   ]
  },
  {
   "cell_type": "markdown",
   "id": "1480bb48",
   "metadata": {},
   "source": [
    "Como mencioné en la presentación propia, me encanta el fútbol, es por eso que deseo hacer una herramienta capaz de responder cualquier inquietud que tenga sobre este deporte, algo como un super buscador que me de las respuestas que deseo y no deba invertir mucho tiempo buscándolas, sin embargo, la principal razón que motivó este proyecto fue poder realizar un programa que me diga diariamente cuales equipos ganarán en sus respectivos partidos del día, teniendo en cuenta toda la información disponible de sus anteriores partidos, características de sus jugadores, y muchas otras fuentes de información. Claramente no será una herramienta que acierte completamente, puesto que cualquier cosa puede pasar en el fútbol, no obstante, que sí pueda ser una herramienta de la cual pueda sacar rentabilidad en el futuro."
   ]
  },
  {
   "cell_type": "markdown",
   "id": "9ecc594c",
   "metadata": {},
   "source": [
    "<img src=\"https://upload.wikimedia.org/wikipedia/en/thumb/f/f2/Premier_League_Logo.svg/1200px-Premier_League_Logo.svg.png\" width=\"400\" height=\"300\">"
   ]
  }
 ],
 "metadata": {
  "kernelspec": {
   "display_name": "Python 3 (ipykernel)",
   "language": "python",
   "name": "python3"
  },
  "language_info": {
   "codemirror_mode": {
    "name": "ipython",
    "version": 3
   },
   "file_extension": ".py",
   "mimetype": "text/x-python",
   "name": "python",
   "nbconvert_exporter": "python",
   "pygments_lexer": "ipython3",
   "version": "3.9.13"
  }
 },
 "nbformat": 4,
 "nbformat_minor": 5
}
